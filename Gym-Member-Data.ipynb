{
 "cells": [
  {
   "cell_type": "markdown",
   "metadata": {},
   "source": [
    "A customer is asking for advice on how to understand their current/existing and past/terminated membership base, in order to recruit ideal new members for a new membership drive: \n",
    "What types of members are ideal prospects (i.e., who to reach out to become a new members)?\n",
    "What do members who terminate have in common?\n",
    "What other metrics should be considered? \n",
    "NOTE: If you were tasked with answering the same questions for a digital add campaign, what would you include / recommend be considered? \n",
    " \n",
    "DELIVERABLES:\n",
    "Create an excel file w/fake data with the following columns (each row would be a fictitious member record): \n",
    "City\n",
    "State\n",
    "Zip code\n",
    "DoB \n",
    "Demographics\n",
    "OTHER \n",
    "Outline questions that should be considered for analysis\n",
    "Show actual data work using “fake” file above \n",
    "Denote what is vs. is not possible with the data set \n",
    "Document what other information and analysis is needed and how that would be done in a real scenario.\n",
    "Provide final data analysis \n",
    "Recommend next steps "
   ]
  },
  {
   "cell_type": "markdown",
   "metadata": {},
   "source": [
    "# Create Fake Data to Use"
   ]
  },
  {
   "cell_type": "code",
   "execution_count": 1,
   "metadata": {},
   "outputs": [],
   "source": [
    "import numpy as np\n",
    "import pandas as pd\n",
    "import matplotlib.pyplot as plt\n",
    "import seaborn as sns\n",
    "\n",
    "sns.set()\n",
    "np.random.seed(47)\n",
    "%matplotlib inline"
   ]
  },
  {
   "cell_type": "code",
   "execution_count": 2,
   "metadata": {},
   "outputs": [],
   "source": [
    "m_name = ['Albert', 'Bobby', 'Chris', 'Donald', 'Earl', 'Fredrick', 'George', 'Henry', 'Ian', 'Joseph', 'Kenny', 'Leonard', \n",
    "        'Martin', 'Ned', 'Oscar', 'Percival', 'Quinton', 'Rick', 'Sam', 'Thomas', 'Ulrich', 'Victor', 'Will', 'Xander', \n",
    "        'Yosef', 'Zach', 'Alex', 'Bob', 'Charlie', 'Dillon', 'Evan', 'Fred', 'Hank', 'Ivan', 'James', 'Kyle', 'Stan', 'Jack'\n",
    "         , 'Robert', 'William']\n",
    "f_name = ['Abigail', 'Alexa', 'Beatrice', 'Beth', 'Christina', 'Daisy', 'Elizabeth', 'Francesca', 'Grace', 'Haley', 'Hannah'\n",
    "          ,'Isabella', 'Jenna', 'Kathy', 'Lindsey', 'Mary', 'Natalie', 'Olivia', 'Patricia', 'Queenie', 'Rachel', 'Samantha'\n",
    "          , 'Sophia', 'Trish', 'Uberrta', 'Victoria', 'Wendy', 'Wanda', 'Xena', 'Yolanda', 'Zada', 'Ana', 'Jody', 'Kate', \n",
    "         'Cassie', 'Rose', 'Gabriella', 'Melissa', 'Dorthy', 'Scarlet']"
   ]
  },
  {
   "cell_type": "code",
   "execution_count": 3,
   "metadata": {},
   "outputs": [
    {
     "name": "stdout",
     "output_type": "stream",
     "text": [
      "40\n",
      "40\n"
     ]
    }
   ],
   "source": [
    "print(len(m_name))\n",
    "print(len(f_name))"
   ]
  },
  {
   "cell_type": "code",
   "execution_count": 4,
   "metadata": {},
   "outputs": [],
   "source": [
    "m_name = np.array(m_name)\n",
    "f_name = np.array(f_name)"
   ]
  },
  {
   "cell_type": "code",
   "execution_count": 5,
   "metadata": {},
   "outputs": [],
   "source": [
    "'''As with real life, separating categories to more realistically distribute. These categories can be change to match any \n",
    "desired outcome. In this case, I am showing a distribution with more white, hispanice, and black members. There's no reason \n",
    "to this choice.'''\n",
    "\n",
    "ethnicity1 = ['White', 'Hispanic', 'Black'] \n",
    "ethnicity2 = ['Asian', 'Native American', 'Other']"
   ]
  },
  {
   "cell_type": "code",
   "execution_count": 6,
   "metadata": {},
   "outputs": [],
   "source": [
    "age1 = np.random.randint(18, 55, 500)"
   ]
  },
  {
   "cell_type": "code",
   "execution_count": 7,
   "metadata": {},
   "outputs": [],
   "source": [
    "age2 = np.random.randint(18, 35, 500)"
   ]
  },
  {
   "cell_type": "code",
   "execution_count": 8,
   "metadata": {},
   "outputs": [],
   "source": [
    "age = np.append(age1, age2)"
   ]
  },
  {
   "cell_type": "code",
   "execution_count": 9,
   "metadata": {},
   "outputs": [],
   "source": [
    "male = np.random.choice(m_name, 400)"
   ]
  },
  {
   "cell_type": "code",
   "execution_count": 10,
   "metadata": {},
   "outputs": [],
   "source": [
    "female = np.random.choice(f_name, 600)"
   ]
  },
  {
   "cell_type": "code",
   "execution_count": 11,
   "metadata": {},
   "outputs": [],
   "source": [
    "fname = np.append(male, female)"
   ]
  },
  {
   "cell_type": "code",
   "execution_count": 12,
   "metadata": {},
   "outputs": [],
   "source": [
    "ethnic1 = np.random.choice(ethnicity1, 650)\n",
    "ethnic2 = np.random.choice(ethnicity2, 350)"
   ]
  },
  {
   "cell_type": "code",
   "execution_count": 13,
   "metadata": {},
   "outputs": [],
   "source": [
    "ethnicity = np.append(ethnic1, ethnic2)"
   ]
  },
  {
   "cell_type": "code",
   "execution_count": 14,
   "metadata": {},
   "outputs": [],
   "source": [
    "np.random.shuffle(ethnicity)"
   ]
  },
  {
   "cell_type": "code",
   "execution_count": 15,
   "metadata": {},
   "outputs": [],
   "source": [
    "mem_level1 = ['Basic', 'Silver', 'Gold']\n",
    "mem_level2 = ['Platinum', 'Diamond']"
   ]
  },
  {
   "cell_type": "code",
   "execution_count": 16,
   "metadata": {},
   "outputs": [],
   "source": [
    "mem1 = np.random.choice(mem_level1, 800)"
   ]
  },
  {
   "cell_type": "code",
   "execution_count": 17,
   "metadata": {},
   "outputs": [],
   "source": [
    "mem2 = np.random.choice(mem_level2, 200)"
   ]
  },
  {
   "cell_type": "code",
   "execution_count": 18,
   "metadata": {},
   "outputs": [],
   "source": [
    "membership = np.append(mem1, mem2)"
   ]
  },
  {
   "cell_type": "code",
   "execution_count": 19,
   "metadata": {},
   "outputs": [],
   "source": [
    "np.random.shuffle(membership)"
   ]
  },
  {
   "cell_type": "code",
   "execution_count": 20,
   "metadata": {},
   "outputs": [],
   "source": [
    "gender_male = np.random.choice(['male'], 400)"
   ]
  },
  {
   "cell_type": "code",
   "execution_count": 21,
   "metadata": {},
   "outputs": [],
   "source": [
    "gender_female = np.random.choice(['female'], 600)"
   ]
  },
  {
   "cell_type": "code",
   "execution_count": 22,
   "metadata": {},
   "outputs": [],
   "source": [
    "gender = np.append(gender_male, gender_female)"
   ]
  },
  {
   "cell_type": "code",
   "execution_count": 23,
   "metadata": {},
   "outputs": [],
   "source": [
    "city = ['Waco', 'Fort Worth', 'Dallas', 'Irving', 'DeSoto', 'Plano', 'Denton', 'Frisco']\n",
    "# 76701-76711, 76101-76110, 76201-76215, 75038, 75115, 75023-75025, 76203-76205, 75035"
   ]
  },
  {
   "cell_type": "code",
   "execution_count": 24,
   "metadata": {},
   "outputs": [],
   "source": [
    "city = np.random.choice(city, 1000)"
   ]
  },
  {
   "cell_type": "code",
   "execution_count": 25,
   "metadata": {},
   "outputs": [],
   "source": [
    "dict = {'fname':fname, 'age':age, 'gender':gender, 'ethnicity':ethnicity, 'member_level':membership, 'city':city}"
   ]
  },
  {
   "cell_type": "code",
   "execution_count": 26,
   "metadata": {},
   "outputs": [],
   "source": [
    "df = pd.DataFrame(dict)"
   ]
  },
  {
   "cell_type": "code",
   "execution_count": 27,
   "metadata": {},
   "outputs": [],
   "source": [
    "df['state'] = 'Texas'"
   ]
  },
  {
   "cell_type": "code",
   "execution_count": 28,
   "metadata": {},
   "outputs": [],
   "source": [
    "def zip_code(data):\n",
    "    if data == 'Waco':\n",
    "        return np.random.randint(76705, 76711)\n",
    "    if data == 'Fort Worth':\n",
    "        return np.random.randint(76101, 76110)\n",
    "    if data == 'Dallas':\n",
    "        return np.random.randint(76201, 76215)\n",
    "    if data == 'Irving':\n",
    "        return 75038\n",
    "    if data == 'DeSoto':\n",
    "        return 75115\n",
    "    if data == 'Plano':\n",
    "        return np.random.randint(75023, 75025)\n",
    "    if data == 'Denton':\n",
    "        return np.random.randint(76203, 76205)\n",
    "    if data == 'Frisco':\n",
    "        return 75035 "
   ]
  },
  {
   "cell_type": "code",
   "execution_count": 29,
   "metadata": {},
   "outputs": [],
   "source": [
    "df['zip'] = df['city'].apply(zip_code)"
   ]
  },
  {
   "cell_type": "code",
   "execution_count": 30,
   "metadata": {},
   "outputs": [],
   "source": [
    "def fill_churn(data):\n",
    "    if data == 'Diamond':\n",
    "        return 0\n",
    "    if data == 'Platinum':\n",
    "        return 0\n",
    "    if data == 'Gold':\n",
    "        return 0\n",
    "    else:\n",
    "        return np.random.randint(0, 2)"
   ]
  },
  {
   "cell_type": "code",
   "execution_count": 31,
   "metadata": {},
   "outputs": [],
   "source": [
    "df['churned'] = df['member_level'].apply(fill_churn)"
   ]
  },
  {
   "cell_type": "code",
   "execution_count": 32,
   "metadata": {},
   "outputs": [
    {
     "data": {
      "text/html": [
       "<div>\n",
       "<style scoped>\n",
       "    .dataframe tbody tr th:only-of-type {\n",
       "        vertical-align: middle;\n",
       "    }\n",
       "\n",
       "    .dataframe tbody tr th {\n",
       "        vertical-align: top;\n",
       "    }\n",
       "\n",
       "    .dataframe thead th {\n",
       "        text-align: right;\n",
       "    }\n",
       "</style>\n",
       "<table border=\"1\" class=\"dataframe\">\n",
       "  <thead>\n",
       "    <tr style=\"text-align: right;\">\n",
       "      <th></th>\n",
       "      <th>fname</th>\n",
       "      <th>age</th>\n",
       "      <th>gender</th>\n",
       "      <th>ethnicity</th>\n",
       "      <th>member_level</th>\n",
       "      <th>city</th>\n",
       "      <th>state</th>\n",
       "      <th>zip</th>\n",
       "      <th>churned</th>\n",
       "    </tr>\n",
       "  </thead>\n",
       "  <tbody>\n",
       "    <tr>\n",
       "      <th>0</th>\n",
       "      <td>Bob</td>\n",
       "      <td>25</td>\n",
       "      <td>male</td>\n",
       "      <td>Asian</td>\n",
       "      <td>Diamond</td>\n",
       "      <td>DeSoto</td>\n",
       "      <td>Texas</td>\n",
       "      <td>75115</td>\n",
       "      <td>0</td>\n",
       "    </tr>\n",
       "    <tr>\n",
       "      <th>1</th>\n",
       "      <td>Jack</td>\n",
       "      <td>24</td>\n",
       "      <td>male</td>\n",
       "      <td>Other</td>\n",
       "      <td>Platinum</td>\n",
       "      <td>Frisco</td>\n",
       "      <td>Texas</td>\n",
       "      <td>75035</td>\n",
       "      <td>0</td>\n",
       "    </tr>\n",
       "    <tr>\n",
       "      <th>2</th>\n",
       "      <td>Fred</td>\n",
       "      <td>25</td>\n",
       "      <td>male</td>\n",
       "      <td>Asian</td>\n",
       "      <td>Basic</td>\n",
       "      <td>Dallas</td>\n",
       "      <td>Texas</td>\n",
       "      <td>76206</td>\n",
       "      <td>1</td>\n",
       "    </tr>\n",
       "    <tr>\n",
       "      <th>3</th>\n",
       "      <td>Zach</td>\n",
       "      <td>26</td>\n",
       "      <td>male</td>\n",
       "      <td>Asian</td>\n",
       "      <td>Silver</td>\n",
       "      <td>Waco</td>\n",
       "      <td>Texas</td>\n",
       "      <td>76709</td>\n",
       "      <td>1</td>\n",
       "    </tr>\n",
       "    <tr>\n",
       "      <th>4</th>\n",
       "      <td>Martin</td>\n",
       "      <td>26</td>\n",
       "      <td>male</td>\n",
       "      <td>Black</td>\n",
       "      <td>Platinum</td>\n",
       "      <td>Fort Worth</td>\n",
       "      <td>Texas</td>\n",
       "      <td>76104</td>\n",
       "      <td>0</td>\n",
       "    </tr>\n",
       "    <tr>\n",
       "      <th>...</th>\n",
       "      <td>...</td>\n",
       "      <td>...</td>\n",
       "      <td>...</td>\n",
       "      <td>...</td>\n",
       "      <td>...</td>\n",
       "      <td>...</td>\n",
       "      <td>...</td>\n",
       "      <td>...</td>\n",
       "      <td>...</td>\n",
       "    </tr>\n",
       "    <tr>\n",
       "      <th>995</th>\n",
       "      <td>Wendy</td>\n",
       "      <td>32</td>\n",
       "      <td>female</td>\n",
       "      <td>Hispanic</td>\n",
       "      <td>Silver</td>\n",
       "      <td>Plano</td>\n",
       "      <td>Texas</td>\n",
       "      <td>75023</td>\n",
       "      <td>1</td>\n",
       "    </tr>\n",
       "    <tr>\n",
       "      <th>996</th>\n",
       "      <td>Melissa</td>\n",
       "      <td>29</td>\n",
       "      <td>female</td>\n",
       "      <td>Black</td>\n",
       "      <td>Basic</td>\n",
       "      <td>Irving</td>\n",
       "      <td>Texas</td>\n",
       "      <td>75038</td>\n",
       "      <td>0</td>\n",
       "    </tr>\n",
       "    <tr>\n",
       "      <th>997</th>\n",
       "      <td>Melissa</td>\n",
       "      <td>28</td>\n",
       "      <td>female</td>\n",
       "      <td>White</td>\n",
       "      <td>Basic</td>\n",
       "      <td>Waco</td>\n",
       "      <td>Texas</td>\n",
       "      <td>76705</td>\n",
       "      <td>0</td>\n",
       "    </tr>\n",
       "    <tr>\n",
       "      <th>998</th>\n",
       "      <td>Beatrice</td>\n",
       "      <td>25</td>\n",
       "      <td>female</td>\n",
       "      <td>Hispanic</td>\n",
       "      <td>Silver</td>\n",
       "      <td>Frisco</td>\n",
       "      <td>Texas</td>\n",
       "      <td>75035</td>\n",
       "      <td>1</td>\n",
       "    </tr>\n",
       "    <tr>\n",
       "      <th>999</th>\n",
       "      <td>Scarlet</td>\n",
       "      <td>18</td>\n",
       "      <td>female</td>\n",
       "      <td>Native American</td>\n",
       "      <td>Basic</td>\n",
       "      <td>Dallas</td>\n",
       "      <td>Texas</td>\n",
       "      <td>76206</td>\n",
       "      <td>0</td>\n",
       "    </tr>\n",
       "  </tbody>\n",
       "</table>\n",
       "<p>1000 rows × 9 columns</p>\n",
       "</div>"
      ],
      "text/plain": [
       "        fname  age  gender        ethnicity member_level        city  state  \\\n",
       "0         Bob   25    male            Asian      Diamond      DeSoto  Texas   \n",
       "1        Jack   24    male            Other     Platinum      Frisco  Texas   \n",
       "2        Fred   25    male            Asian        Basic      Dallas  Texas   \n",
       "3        Zach   26    male            Asian       Silver        Waco  Texas   \n",
       "4      Martin   26    male            Black     Platinum  Fort Worth  Texas   \n",
       "..        ...  ...     ...              ...          ...         ...    ...   \n",
       "995     Wendy   32  female         Hispanic       Silver       Plano  Texas   \n",
       "996   Melissa   29  female            Black        Basic      Irving  Texas   \n",
       "997   Melissa   28  female            White        Basic        Waco  Texas   \n",
       "998  Beatrice   25  female         Hispanic       Silver      Frisco  Texas   \n",
       "999   Scarlet   18  female  Native American        Basic      Dallas  Texas   \n",
       "\n",
       "       zip  churned  \n",
       "0    75115        0  \n",
       "1    75035        0  \n",
       "2    76206        1  \n",
       "3    76709        1  \n",
       "4    76104        0  \n",
       "..     ...      ...  \n",
       "995  75023        1  \n",
       "996  75038        0  \n",
       "997  76705        0  \n",
       "998  75035        1  \n",
       "999  76206        0  \n",
       "\n",
       "[1000 rows x 9 columns]"
      ]
     },
     "execution_count": 32,
     "metadata": {},
     "output_type": "execute_result"
    }
   ],
   "source": [
    "df"
   ]
  },
  {
   "cell_type": "markdown",
   "metadata": {},
   "source": [
    "## Exploratory Data Analysis (EDA)"
   ]
  },
  {
   "cell_type": "code",
   "execution_count": 33,
   "metadata": {},
   "outputs": [
    {
     "name": "stdout",
     "output_type": "stream",
     "text": [
      "<class 'pandas.core.frame.DataFrame'>\n",
      "RangeIndex: 1000 entries, 0 to 999\n",
      "Data columns (total 9 columns):\n",
      " #   Column        Non-Null Count  Dtype \n",
      "---  ------        --------------  ----- \n",
      " 0   fname         1000 non-null   object\n",
      " 1   age           1000 non-null   int32 \n",
      " 2   gender        1000 non-null   object\n",
      " 3   ethnicity     1000 non-null   object\n",
      " 4   member_level  1000 non-null   object\n",
      " 5   city          1000 non-null   object\n",
      " 6   state         1000 non-null   object\n",
      " 7   zip           1000 non-null   int64 \n",
      " 8   churned       1000 non-null   int64 \n",
      "dtypes: int32(1), int64(2), object(6)\n",
      "memory usage: 66.5+ KB\n"
     ]
    }
   ],
   "source": [
    "df.info()"
   ]
  },
  {
   "cell_type": "code",
   "execution_count": 34,
   "metadata": {},
   "outputs": [],
   "source": [
    "df['zip'] = df['zip'].astype(str)\n",
    "df['churned'] = df['churned'].astype(bool)"
   ]
  },
  {
   "cell_type": "code",
   "execution_count": 35,
   "metadata": {},
   "outputs": [
    {
     "data": {
      "text/html": [
       "<div>\n",
       "<style scoped>\n",
       "    .dataframe tbody tr th:only-of-type {\n",
       "        vertical-align: middle;\n",
       "    }\n",
       "\n",
       "    .dataframe tbody tr th {\n",
       "        vertical-align: top;\n",
       "    }\n",
       "\n",
       "    .dataframe thead th {\n",
       "        text-align: right;\n",
       "    }\n",
       "</style>\n",
       "<table border=\"1\" class=\"dataframe\">\n",
       "  <thead>\n",
       "    <tr style=\"text-align: right;\">\n",
       "      <th></th>\n",
       "      <th>age</th>\n",
       "    </tr>\n",
       "  </thead>\n",
       "  <tbody>\n",
       "    <tr>\n",
       "      <th>count</th>\n",
       "      <td>1000.000000</td>\n",
       "    </tr>\n",
       "    <tr>\n",
       "      <th>mean</th>\n",
       "      <td>31.274000</td>\n",
       "    </tr>\n",
       "    <tr>\n",
       "      <th>std</th>\n",
       "      <td>9.610582</td>\n",
       "    </tr>\n",
       "    <tr>\n",
       "      <th>min</th>\n",
       "      <td>18.000000</td>\n",
       "    </tr>\n",
       "    <tr>\n",
       "      <th>25%</th>\n",
       "      <td>24.000000</td>\n",
       "    </tr>\n",
       "    <tr>\n",
       "      <th>50%</th>\n",
       "      <td>29.000000</td>\n",
       "    </tr>\n",
       "    <tr>\n",
       "      <th>75%</th>\n",
       "      <td>37.000000</td>\n",
       "    </tr>\n",
       "    <tr>\n",
       "      <th>max</th>\n",
       "      <td>54.000000</td>\n",
       "    </tr>\n",
       "  </tbody>\n",
       "</table>\n",
       "</div>"
      ],
      "text/plain": [
       "               age\n",
       "count  1000.000000\n",
       "mean     31.274000\n",
       "std       9.610582\n",
       "min      18.000000\n",
       "25%      24.000000\n",
       "50%      29.000000\n",
       "75%      37.000000\n",
       "max      54.000000"
      ]
     },
     "execution_count": 35,
     "metadata": {},
     "output_type": "execute_result"
    }
   ],
   "source": [
    "df.describe()"
   ]
  },
  {
   "cell_type": "code",
   "execution_count": 36,
   "metadata": {},
   "outputs": [],
   "source": [
    "age_gender = pd.pivot_table(df, values='age', columns='gender', aggfunc=['mean', 'min', 'max'])"
   ]
  },
  {
   "cell_type": "code",
   "execution_count": 37,
   "metadata": {},
   "outputs": [
    {
     "data": {
      "text/html": [
       "<div>\n",
       "<style scoped>\n",
       "    .dataframe tbody tr th:only-of-type {\n",
       "        vertical-align: middle;\n",
       "    }\n",
       "\n",
       "    .dataframe tbody tr th {\n",
       "        vertical-align: top;\n",
       "    }\n",
       "\n",
       "    .dataframe thead tr th {\n",
       "        text-align: left;\n",
       "    }\n",
       "</style>\n",
       "<table border=\"1\" class=\"dataframe\">\n",
       "  <thead>\n",
       "    <tr>\n",
       "      <th></th>\n",
       "      <th colspan=\"2\" halign=\"left\">mean</th>\n",
       "      <th colspan=\"2\" halign=\"left\">min</th>\n",
       "      <th colspan=\"2\" halign=\"left\">max</th>\n",
       "    </tr>\n",
       "    <tr>\n",
       "      <th>gender</th>\n",
       "      <th>female</th>\n",
       "      <th>male</th>\n",
       "      <th>female</th>\n",
       "      <th>male</th>\n",
       "      <th>female</th>\n",
       "      <th>male</th>\n",
       "    </tr>\n",
       "  </thead>\n",
       "  <tbody>\n",
       "    <tr>\n",
       "      <th>age</th>\n",
       "      <td>27.875</td>\n",
       "      <td>36.3725</td>\n",
       "      <td>18</td>\n",
       "      <td>18</td>\n",
       "      <td>54</td>\n",
       "      <td>54</td>\n",
       "    </tr>\n",
       "  </tbody>\n",
       "</table>\n",
       "</div>"
      ],
      "text/plain": [
       "          mean             min         max     \n",
       "gender  female     male female male female male\n",
       "age     27.875  36.3725     18   18     54   54"
      ]
     },
     "execution_count": 37,
     "metadata": {},
     "output_type": "execute_result"
    }
   ],
   "source": [
    "age_gender"
   ]
  },
  {
   "cell_type": "markdown",
   "metadata": {},
   "source": [
    "Here we see that our average female gym-goer is approximately 9 years younger than the average male. This insight can help inform advertising to ensure ad targetting is tailored to the right average age. "
   ]
  },
  {
   "cell_type": "code",
   "execution_count": 38,
   "metadata": {},
   "outputs": [
    {
     "data": {
      "text/plain": [
       "Plano         134\n",
       "Denton        133\n",
       "Frisco        133\n",
       "DeSoto        129\n",
       "Waco          125\n",
       "Dallas        124\n",
       "Fort Worth    114\n",
       "Irving        108\n",
       "Name: city, dtype: int64"
      ]
     },
     "execution_count": 38,
     "metadata": {},
     "output_type": "execute_result"
    }
   ],
   "source": [
    "df['city'].value_counts()"
   ]
  },
  {
   "cell_type": "code",
   "execution_count": 39,
   "metadata": {},
   "outputs": [
    {
     "data": {
      "image/png": "[encoded data removed]",
      "text/plain": [
       "<Figure size 432x288 with 1 Axes>"
      ]
     },
     "metadata": {
      "needs_background": "light"
     },
     "output_type": "display_data"
    }
   ],
   "source": [
    "plt.xlabel('City')\n",
    "plt.ylabel('Number of Members')\n",
    "plt.title('Members by City', fontsize=16)\n",
    "df['city'].value_counts().plot(kind='bar');"
   ]
  },
  {
   "cell_type": "markdown",
   "metadata": {},
   "source": [
    "Here we see that our members comes from eight different cities in the Dallas/Fort Worth area. And, while the relative numbers are similar across the 8 cities, we see Irving with a notably lower number. <br><br>\n",
    "Is this due to a lack of targeting in Irving? Or, perhaps due to a competing gym that is more convenient to Irving? "
   ]
  },
  {
   "cell_type": "code",
   "execution_count": 40,
   "metadata": {},
   "outputs": [
    {
     "data": {
      "text/plain": [
       "female    600\n",
       "male      400\n",
       "Name: gender, dtype: int64"
      ]
     },
     "execution_count": 40,
     "metadata": {},
     "output_type": "execute_result"
    }
   ],
   "source": [
    "df.gender.value_counts()"
   ]
  },
  {
   "cell_type": "code",
   "execution_count": 41,
   "metadata": {},
   "outputs": [
    {
     "data": {
      "image/png": "[encoded data removed]",
      "text/plain": [
       "<Figure size 432x288 with 1 Axes>"
      ]
     },
     "metadata": {
      "needs_background": "light"
     },
     "output_type": "display_data"
    }
   ],
   "source": [
    "plt.title('Membership by Gender', fontsize=16)\n",
    "plt.xlabel('Gender')\n",
    "plt.ylabel('Number of Members')\n",
    "df.gender.value_counts().plot(kind='bar');"
   ]
  },
  {
   "cell_type": "markdown",
   "metadata": {},
   "source": [
    "Here we see that females account for 60% of the members we have in our records. Combined with our knowledge of younger women using the gym, ths suggests we might want to target younger women more frequently in our marketing."
   ]
  },
  {
   "cell_type": "code",
   "execution_count": 42,
   "metadata": {
    "scrolled": true
   },
   "outputs": [
    {
     "data": {
      "text/plain": [
       "Silver      298\n",
       "Gold        267\n",
       "Basic       235\n",
       "Diamond     101\n",
       "Platinum     99\n",
       "Name: member_level, dtype: int64"
      ]
     },
     "execution_count": 42,
     "metadata": {},
     "output_type": "execute_result"
    }
   ],
   "source": [
    "df.member_level.value_counts()"
   ]
  },
  {
   "cell_type": "code",
   "execution_count": 43,
   "metadata": {},
   "outputs": [
    {
     "data": {
      "image/png": "[encoded data removed]",
      "text/plain": [
       "<Figure size 432x288 with 1 Axes>"
      ]
     },
     "metadata": {
      "needs_background": "light"
     },
     "output_type": "display_data"
    }
   ],
   "source": [
    "plt.title('Membership by Type', fontsize=16)\n",
    "plt.xlabel('Membership Level')\n",
    "plt.ylabel('Number of Members')\n",
    "df.member_level.value_counts().plot(kind='bar');"
   ]
  },
  {
   "cell_type": "markdown",
   "metadata": {},
   "source": [
    "Here we see Silver is our most attractive membership level. It might be worth doing further digging into why this might be the case. We also see Gold surpasses the Basic plan. This could suggest that we are doing well in promoting higher level plans, as fewer members are opting for the most basic level of membership. <br><br>\n",
    "If we can figure out what sets Silver apart, we might be able to make a stronger push for Gold and bring that to the top.<br><br>\n",
    "Finally, both Diamond and Platinum plans have similar levels of membership. With Diamond being our premeir plan, this is encouraging to see. One other consideration would be to see if we can device a way to elevate more Gold members to our Platinum or Diamond plan. "
   ]
  },
  {
   "cell_type": "markdown",
   "metadata": {},
   "source": [
    "## Exploring Churned vs. Retained"
   ]
  },
  {
   "cell_type": "code",
   "execution_count": 44,
   "metadata": {},
   "outputs": [],
   "source": [
    "churned = df[df['churned'] == 1]\n",
    "active = df[df['churned'] == 0]"
   ]
  },
  {
   "cell_type": "code",
   "execution_count": 45,
   "metadata": {
    "scrolled": true
   },
   "outputs": [
    {
     "data": {
      "text/html": [
       "<div>\n",
       "<style scoped>\n",
       "    .dataframe tbody tr th:only-of-type {\n",
       "        vertical-align: middle;\n",
       "    }\n",
       "\n",
       "    .dataframe tbody tr th {\n",
       "        vertical-align: top;\n",
       "    }\n",
       "\n",
       "    .dataframe thead th {\n",
       "        text-align: right;\n",
       "    }\n",
       "</style>\n",
       "<table border=\"1\" class=\"dataframe\">\n",
       "  <thead>\n",
       "    <tr style=\"text-align: right;\">\n",
       "      <th></th>\n",
       "      <th>age</th>\n",
       "    </tr>\n",
       "  </thead>\n",
       "  <tbody>\n",
       "    <tr>\n",
       "      <th>count</th>\n",
       "      <td>734.000000</td>\n",
       "    </tr>\n",
       "    <tr>\n",
       "      <th>mean</th>\n",
       "      <td>31.455041</td>\n",
       "    </tr>\n",
       "    <tr>\n",
       "      <th>std</th>\n",
       "      <td>9.589104</td>\n",
       "    </tr>\n",
       "    <tr>\n",
       "      <th>min</th>\n",
       "      <td>18.000000</td>\n",
       "    </tr>\n",
       "    <tr>\n",
       "      <th>25%</th>\n",
       "      <td>24.000000</td>\n",
       "    </tr>\n",
       "    <tr>\n",
       "      <th>50%</th>\n",
       "      <td>30.000000</td>\n",
       "    </tr>\n",
       "    <tr>\n",
       "      <th>75%</th>\n",
       "      <td>37.000000</td>\n",
       "    </tr>\n",
       "    <tr>\n",
       "      <th>max</th>\n",
       "      <td>54.000000</td>\n",
       "    </tr>\n",
       "  </tbody>\n",
       "</table>\n",
       "</div>"
      ],
      "text/plain": [
       "              age\n",
       "count  734.000000\n",
       "mean    31.455041\n",
       "std      9.589104\n",
       "min     18.000000\n",
       "25%     24.000000\n",
       "50%     30.000000\n",
       "75%     37.000000\n",
       "max     54.000000"
      ]
     },
     "execution_count": 45,
     "metadata": {},
     "output_type": "execute_result"
    }
   ],
   "source": [
    "active.describe()"
   ]
  },
  {
   "cell_type": "code",
   "execution_count": 46,
   "metadata": {},
   "outputs": [
    {
     "data": {
      "text/html": [
       "<div>\n",
       "<style scoped>\n",
       "    .dataframe tbody tr th:only-of-type {\n",
       "        vertical-align: middle;\n",
       "    }\n",
       "\n",
       "    .dataframe tbody tr th {\n",
       "        vertical-align: top;\n",
       "    }\n",
       "\n",
       "    .dataframe thead th {\n",
       "        text-align: right;\n",
       "    }\n",
       "</style>\n",
       "<table border=\"1\" class=\"dataframe\">\n",
       "  <thead>\n",
       "    <tr style=\"text-align: right;\">\n",
       "      <th></th>\n",
       "      <th>age</th>\n",
       "    </tr>\n",
       "  </thead>\n",
       "  <tbody>\n",
       "    <tr>\n",
       "      <th>count</th>\n",
       "      <td>266.000000</td>\n",
       "    </tr>\n",
       "    <tr>\n",
       "      <th>mean</th>\n",
       "      <td>30.774436</td>\n",
       "    </tr>\n",
       "    <tr>\n",
       "      <th>std</th>\n",
       "      <td>9.670119</td>\n",
       "    </tr>\n",
       "    <tr>\n",
       "      <th>min</th>\n",
       "      <td>18.000000</td>\n",
       "    </tr>\n",
       "    <tr>\n",
       "      <th>25%</th>\n",
       "      <td>24.000000</td>\n",
       "    </tr>\n",
       "    <tr>\n",
       "      <th>50%</th>\n",
       "      <td>29.000000</td>\n",
       "    </tr>\n",
       "    <tr>\n",
       "      <th>75%</th>\n",
       "      <td>34.000000</td>\n",
       "    </tr>\n",
       "    <tr>\n",
       "      <th>max</th>\n",
       "      <td>54.000000</td>\n",
       "    </tr>\n",
       "  </tbody>\n",
       "</table>\n",
       "</div>"
      ],
      "text/plain": [
       "              age\n",
       "count  266.000000\n",
       "mean    30.774436\n",
       "std      9.670119\n",
       "min     18.000000\n",
       "25%     24.000000\n",
       "50%     29.000000\n",
       "75%     34.000000\n",
       "max     54.000000"
      ]
     },
     "execution_count": 46,
     "metadata": {},
     "output_type": "execute_result"
    }
   ],
   "source": [
    "churned.describe()"
   ]
  },
  {
   "cell_type": "code",
   "execution_count": 47,
   "metadata": {},
   "outputs": [],
   "source": [
    "age_gender_a = pd.pivot_table(active, values='age', columns='gender', aggfunc=['mean', 'min', 'max'])"
   ]
  },
  {
   "cell_type": "code",
   "execution_count": 48,
   "metadata": {},
   "outputs": [
    {
     "data": {
      "text/html": [
       "<div>\n",
       "<style scoped>\n",
       "    .dataframe tbody tr th:only-of-type {\n",
       "        vertical-align: middle;\n",
       "    }\n",
       "\n",
       "    .dataframe tbody tr th {\n",
       "        vertical-align: top;\n",
       "    }\n",
       "\n",
       "    .dataframe thead tr th {\n",
       "        text-align: left;\n",
       "    }\n",
       "</style>\n",
       "<table border=\"1\" class=\"dataframe\">\n",
       "  <thead>\n",
       "    <tr>\n",
       "      <th></th>\n",
       "      <th colspan=\"2\" halign=\"left\">mean</th>\n",
       "      <th colspan=\"2\" halign=\"left\">min</th>\n",
       "      <th colspan=\"2\" halign=\"left\">max</th>\n",
       "    </tr>\n",
       "    <tr>\n",
       "      <th>gender</th>\n",
       "      <th>female</th>\n",
       "      <th>male</th>\n",
       "      <th>female</th>\n",
       "      <th>male</th>\n",
       "      <th>female</th>\n",
       "      <th>male</th>\n",
       "    </tr>\n",
       "  </thead>\n",
       "  <tbody>\n",
       "    <tr>\n",
       "      <th>age</th>\n",
       "      <td>27.993228</td>\n",
       "      <td>36.725086</td>\n",
       "      <td>18</td>\n",
       "      <td>18</td>\n",
       "      <td>54</td>\n",
       "      <td>54</td>\n",
       "    </tr>\n",
       "  </tbody>\n",
       "</table>\n",
       "</div>"
      ],
      "text/plain": [
       "             mean               min         max     \n",
       "gender     female       male female male female male\n",
       "age     27.993228  36.725086     18   18     54   54"
      ]
     },
     "execution_count": 48,
     "metadata": {},
     "output_type": "execute_result"
    }
   ],
   "source": [
    "age_gender_a"
   ]
  },
  {
   "cell_type": "code",
   "execution_count": 49,
   "metadata": {},
   "outputs": [],
   "source": [
    "age_gender_c = pd.pivot_table(churned, values='age', columns='gender', aggfunc=['mean', 'min', 'max'])"
   ]
  },
  {
   "cell_type": "code",
   "execution_count": 50,
   "metadata": {},
   "outputs": [
    {
     "data": {
      "text/html": [
       "<div>\n",
       "<style scoped>\n",
       "    .dataframe tbody tr th:only-of-type {\n",
       "        vertical-align: middle;\n",
       "    }\n",
       "\n",
       "    .dataframe tbody tr th {\n",
       "        vertical-align: top;\n",
       "    }\n",
       "\n",
       "    .dataframe thead tr th {\n",
       "        text-align: left;\n",
       "    }\n",
       "</style>\n",
       "<table border=\"1\" class=\"dataframe\">\n",
       "  <thead>\n",
       "    <tr>\n",
       "      <th></th>\n",
       "      <th colspan=\"2\" halign=\"left\">mean</th>\n",
       "      <th colspan=\"2\" halign=\"left\">min</th>\n",
       "      <th colspan=\"2\" halign=\"left\">max</th>\n",
       "    </tr>\n",
       "    <tr>\n",
       "      <th>gender</th>\n",
       "      <th>female</th>\n",
       "      <th>male</th>\n",
       "      <th>female</th>\n",
       "      <th>male</th>\n",
       "      <th>female</th>\n",
       "      <th>male</th>\n",
       "    </tr>\n",
       "  </thead>\n",
       "  <tbody>\n",
       "    <tr>\n",
       "      <th>age</th>\n",
       "      <td>27.541401</td>\n",
       "      <td>35.431193</td>\n",
       "      <td>18</td>\n",
       "      <td>18</td>\n",
       "      <td>54</td>\n",
       "      <td>54</td>\n",
       "    </tr>\n",
       "  </tbody>\n",
       "</table>\n",
       "</div>"
      ],
      "text/plain": [
       "             mean               min         max     \n",
       "gender     female       male female male female male\n",
       "age     27.541401  35.431193     18   18     54   54"
      ]
     },
     "execution_count": 50,
     "metadata": {},
     "output_type": "execute_result"
    }
   ],
   "source": [
    "age_gender_c"
   ]
  },
  {
   "cell_type": "markdown",
   "metadata": {},
   "source": [
    "Comparing our active members vs. those who have churned, we see the average female age is relatively the same, but our average male who has churned is a solid younger. This could suggest that younger men are more likely to churn, but will definitely require more digging before coming to that conclusion. "
   ]
  },
  {
   "cell_type": "code",
   "execution_count": 51,
   "metadata": {},
   "outputs": [
    {
     "data": {
      "text/plain": [
       "Frisco        100\n",
       "Denton         99\n",
       "Plano          98\n",
       "Waco           97\n",
       "Fort Worth     88\n",
       "DeSoto         85\n",
       "Dallas         85\n",
       "Irving         82\n",
       "Name: city, dtype: int64"
      ]
     },
     "execution_count": 51,
     "metadata": {},
     "output_type": "execute_result"
    }
   ],
   "source": [
    "active['city'].value_counts()"
   ]
  },
  {
   "cell_type": "code",
   "execution_count": 52,
   "metadata": {},
   "outputs": [
    {
     "data": {
      "text/plain": [
       "DeSoto        44\n",
       "Dallas        39\n",
       "Plano         36\n",
       "Denton        34\n",
       "Frisco        33\n",
       "Waco          28\n",
       "Irving        26\n",
       "Fort Worth    26\n",
       "Name: city, dtype: int64"
      ]
     },
     "execution_count": 52,
     "metadata": {},
     "output_type": "execute_result"
    }
   ],
   "source": [
    "churned['city'].value_counts()"
   ]
  },
  {
   "cell_type": "code",
   "execution_count": 53,
   "metadata": {},
   "outputs": [
    {
     "data": {
      "image/png": "[encoded data removed]",
      "text/plain": [
       "<Figure size 1296x432 with 1 Axes>"
      ]
     },
     "metadata": {
      "needs_background": "light"
     },
     "output_type": "display_data"
    }
   ],
   "source": [
    "plt.figure(figsize=(18, 6))\n",
    "plt.xlabel('City')\n",
    "plt.ylabel('Number of Members')\n",
    "plt.title('Members by City', fontsize=16)\n",
    "active['city'].value_counts().plot(kind='bar', width=-0.4, align='edge')\n",
    "churned['city'].value_counts().plot(kind='bar', color='red', width=0.4, align='edge');"
   ]
  },
  {
   "cell_type": "markdown",
   "metadata": {},
   "source": [
    "Seeing these side-by-side, we see while most our active members live in DeSoto, this city is also responsible for the largest number of churned customers. Similarly, Dallas, Plano, and Denton follow behind. <br><br>\n",
    "On the surface, there is little we can gather about whether someone will churn based on their city. However, I would note it's important not to dismiss this. As we dig further into the data, we might find some other relationships here worth noting. "
   ]
  },
  {
   "cell_type": "code",
   "execution_count": 54,
   "metadata": {},
   "outputs": [
    {
     "data": {
      "text/plain": [
       "female    443\n",
       "male      291\n",
       "Name: gender, dtype: int64"
      ]
     },
     "execution_count": 54,
     "metadata": {},
     "output_type": "execute_result"
    }
   ],
   "source": [
    "active.gender.value_counts()"
   ]
  },
  {
   "cell_type": "code",
   "execution_count": 55,
   "metadata": {},
   "outputs": [
    {
     "data": {
      "text/plain": [
       "female    157\n",
       "male      109\n",
       "Name: gender, dtype: int64"
      ]
     },
     "execution_count": 55,
     "metadata": {},
     "output_type": "execute_result"
    }
   ],
   "source": [
    "churned.gender.value_counts()"
   ]
  },
  {
   "cell_type": "code",
   "execution_count": 56,
   "metadata": {},
   "outputs": [
    {
     "data": {
      "image/png": "[encoded data removed]",
      "text/plain": [
       "<Figure size 1080x432 with 1 Axes>"
      ]
     },
     "metadata": {
      "needs_background": "light"
     },
     "output_type": "display_data"
    }
   ],
   "source": [
    "plt.figure(figsize=(15, 6))\n",
    "plt.title('Membership by Gender', fontsize=16)\n",
    "plt.xlabel('Gender')\n",
    "plt.ylabel('Number of Members')\n",
    "active.gender.value_counts().plot(kind='bar', width=-0.4, align='edge')\n",
    "churned.gender.value_counts().plot(kind='bar', width=0.4, align='edge', color='red');"
   ]
  },
  {
   "cell_type": "code",
   "execution_count": 57,
   "metadata": {},
   "outputs": [
    {
     "name": "stdout",
     "output_type": "stream",
     "text": [
      "Churn Ratio for Women: 0.3544018058690745\n",
      "Churn Ratio for Men: 0.3745704467353952\n"
     ]
    }
   ],
   "source": [
    "print('Churn Ratio for Women:', 157/443)\n",
    "print('Churn Ratio for Men:', 109/291)"
   ]
  },
  {
   "cell_type": "markdown",
   "metadata": {},
   "source": [
    "On the surface, this make sit appear that we might need to recosider targeting based on gender. After all, there are clearly more females churning than males. However, when we look at ratios, we see a different picture. <br><br>\n",
    "In fact, based on their lower overall numbers, it appears men are churning at a slightly higher ratio than women. "
   ]
  },
  {
   "cell_type": "code",
   "execution_count": 58,
   "metadata": {
    "scrolled": true
   },
   "outputs": [
    {
     "data": {
      "text/plain": [
       "Gold        267\n",
       "Silver      153\n",
       "Basic       114\n",
       "Diamond     101\n",
       "Platinum     99\n",
       "Name: member_level, dtype: int64"
      ]
     },
     "execution_count": 58,
     "metadata": {},
     "output_type": "execute_result"
    }
   ],
   "source": [
    "active.member_level.value_counts()"
   ]
  },
  {
   "cell_type": "code",
   "execution_count": 59,
   "metadata": {},
   "outputs": [
    {
     "data": {
      "text/plain": [
       "Silver    145\n",
       "Basic     121\n",
       "Name: member_level, dtype: int64"
      ]
     },
     "execution_count": 59,
     "metadata": {},
     "output_type": "execute_result"
    }
   ],
   "source": [
    "churned.member_level.value_counts()"
   ]
  },
  {
   "cell_type": "code",
   "execution_count": 60,
   "metadata": {},
   "outputs": [
    {
     "data": {
      "image/png": "[encoded data removed]",
      "text/plain": [
       "<Figure size 1080x432 with 1 Axes>"
      ]
     },
     "metadata": {
      "needs_background": "light"
     },
     "output_type": "display_data"
    }
   ],
   "source": [
    "plt.figure(figsize=(15, 6))\n",
    "plt.title('Membership by Type', fontsize=16)\n",
    "plt.xlabel('Membership Level')\n",
    "plt.ylabel('Number of Members')\n",
    "active.member_level.value_counts().plot(kind='bar', width=-0.4, align='edge')\n",
    "churned.member_level.value_counts().plot(kind='bar', width=0.4, align='edge', color='red');"
   ]
  },
  {
   "cell_type": "markdown",
   "metadata": {},
   "source": [
    "Since there are only two plans where we see churn among our users, this provides an important distinction for us. While initial data suggested our Silver plan might be something to look at more closely, we see here that it's also responsible for most of our churn. With that in mind, we should explore this plan more closely. "
   ]
  },
  {
   "cell_type": "code",
   "execution_count": 61,
   "metadata": {},
   "outputs": [
    {
     "data": {
      "text/plain": [
       "<matplotlib.axes._subplots.AxesSubplot at 0x2a1088bf9d0>"
      ]
     },
     "execution_count": 61,
     "metadata": {},
     "output_type": "execute_result"
    },
    {
     "data": {
      "image/png": "[encoded data removed]",
      "text/plain": [
       "<Figure size 1080x432 with 1 Axes>"
      ]
     },
     "metadata": {
      "needs_background": "light"
     },
     "output_type": "display_data"
    }
   ],
   "source": [
    "plt.figure(figsize=(15, 6))\n",
    "plt.title('Membership by Type', fontsize=16)\n",
    "plt.xlabel('Membership Level')\n",
    "plt.ylabel('Number of Members')\n",
    "active.member_level.value_counts().plot(kind='bar')"
   ]
  },
  {
   "cell_type": "markdown",
   "metadata": {},
   "source": [
    "Looking only at current members, it seems our Gold plan has become the most popular over time and retains users just as frequently as Diamond and Platinum.<br><br>\n",
    "With that in mind, we should look at elevating members from Basic and Silver plans to our Gold plan. Additionally, our Diamond and Platinum members remain loyal as well, so we should look for opportunities to ascend members up from Gold."
   ]
  },
  {
   "cell_type": "markdown",
   "metadata": {},
   "source": [
    "# Exporting Data for Client Report"
   ]
  },
  {
   "cell_type": "code",
   "execution_count": 62,
   "metadata": {},
   "outputs": [],
   "source": [
    "df.to_csv('membership_data.csv')"
   ]
  }
 ],
 "metadata": {
  "kernelspec": {
   "display_name": "Python 3",
   "language": "python",
   "name": "python3"
  },
  "language_info": {
   "codemirror_mode": {
    "name": "ipython",
    "version": 3
   },
   "file_extension": ".py",
   "mimetype": "text/x-python",
   "name": "python",
   "nbconvert_exporter": "python",
   "pygments_lexer": "ipython3",
   "version": "3.8.3"
  }
 },
 "nbformat": 4,
 "nbformat_minor": 4
}
